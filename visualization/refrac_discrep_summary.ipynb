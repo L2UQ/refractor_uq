{
 "cells": [
  {
   "cell_type": "markdown",
   "metadata": {},
   "source": [
    "### ReFRACtor UQ Experiment Analysis\n",
    "\n",
    "This notebook provides quick summary results from a simulation-based uncertainty quantification experiment, conducted using the [ReFRACtor OCO-2 setup](https://github.com/L2UQ/refractor_uq)\n",
    "\n",
    "The simulation produces an ouptut file in HDF5 format with the aggregated retrieval results. The analysis consists of two key steps:\n",
    "\n",
    "* Filtering: Diagnosing if retrievals successfully converged to a solution\n",
    "    - `RetrievalResults/outcome_flag`: A value of 1 or 2 indicates the optimization reached a solution. A value of 3 indicates convergence was not reached in the allowed number of iterations. A missing value suggests the retrieval was not attempted or a low-level numerical failure occurred during the retrieval.\n",
    "    - `SpectralParameters/reduced_chi_squared_o2`, `/SpectralParameters/reduced_chi_squared_strong_co2`, `/SpectralParameters/reduced_chi_squared_weak_co2`: These are goodness of fit metrics for each of the three bands. They are normalized, so values around 1 are consistent with successful convergence. If values are several times to an order of magnitude larger, the solution is probably suspect.\n",
    "* Error assessment: Examining the distribution of retrieved quantities and errors on the subset of successful retrievals\n",
    "    - `RetrievalResults/retrieved_xco2`, `RetrievalResults/retrieved_state_vector`: Retrieved quantities, which can be compared to their true counterparts: `/StateVector/true_xco2`, `/StateVector/true_state_vector`"
   ]
  },
  {
   "cell_type": "code",
   "execution_count": 1,
   "metadata": {},
   "outputs": [],
   "source": [
    "import pandas\n",
    "import numpy\n",
    "import h5py\n",
    "import matplotlib\n",
    "from matplotlib import pyplot\n",
    "from matplotlib import colors"
   ]
  },
  {
   "cell_type": "markdown",
   "metadata": {},
   "source": [
    "Read in aggregated retrieval results"
   ]
  },
  {
   "cell_type": "code",
   "execution_count": 2,
   "metadata": {},
   "outputs": [],
   "source": [
    "fnm = \"lnd_nadir_202008_refractor_aggregate_retrieval_D1G0M0.h5\" \n",
    "f = h5py.File(fnm,'r')\n",
    "oflg = f['/RetrievalResults/outcome_flag'][:]\n",
    "nitr = f['/RetrievalResults/number_iterations'][:]\n",
    "chio2 = f['/SpectralParameters/reduced_chi_squared_o2'][:]\n",
    "chist = f['/SpectralParameters/reduced_chi_squared_strong_co2'][:]\n",
    "chiwk = f['/SpectralParameters/reduced_chi_squared_weak_co2'][:]\n",
    "xco2hat = f['/RetrievalResults/retrieved_xco2'][:]\n",
    "xco2tr = f['/StateVector/true_xco2'][:]\n",
    "f.close()\n",
    "\n",
    "sdsq = numpy.arange(oflg.shape[0])"
   ]
  },
  {
   "cell_type": "code",
   "execution_count": 3,
   "metadata": {},
   "outputs": [
    {
     "name": "stdout",
     "output_type": "stream",
     "text": [
      "(5000,)\n",
      "[-99   1   3   1   3 -99 -99   1   1   3]\n",
      "[-9.9990000e+06  1.0768788e+00  9.8060143e-01  9.6269006e-01\n",
      "  1.0375115e+00 -9.9990000e+06 -9.9990000e+06  1.1686649e+00\n",
      "  1.0477123e+00  1.0262780e+00]\n"
     ]
    }
   ],
   "source": [
    "print(oflg.shape)\n",
    "print(oflg[0:10])\n",
    "print(chio2[0:10])"
   ]
  },
  {
   "cell_type": "markdown",
   "metadata": {},
   "source": [
    "Create a data frame and tabulate outcome flag results. Convert XCO2 variables to parts per million"
   ]
  },
  {
   "cell_type": "code",
   "execution_count": 5,
   "metadata": {},
   "outputs": [
    {
     "name": "stdout",
     "output_type": "stream",
     "text": [
      "   SdgSeq  OFlg         ChiO2         ChiWk         ChiSt    XCO2True  \\\n",
      "0       0   -99 -9.999000e+06 -9.999000e+06 -9.999000e+06  411.308292   \n",
      "1       1     1  1.076879e+00  9.941166e-01  1.009013e+00  413.589388   \n",
      "2       2     3  9.806014e-01  9.753079e-01  1.064764e+00  410.027620   \n",
      "3       3     1  9.626901e-01  9.969173e-01  1.091574e+00  407.801576   \n",
      "4       4     3  1.037511e+00  1.033304e+00  9.720272e-01  410.831865   \n",
      "\n",
      "        XCO2Ret  NIter  \n",
      "0 -9.998999e+12    -99  \n",
      "1  4.124359e+02      5  \n",
      "2  4.094287e+02      3  \n",
      "3  4.067195e+02      3  \n",
      "4  4.104888e+02      4  \n",
      " 1     2439\n",
      " 3     1870\n",
      "-99     691\n",
      "Name: OFlg, dtype: int64\n",
      " 3     1379\n",
      " 4     1148\n",
      "-99     691\n",
      " 5      638\n",
      " 2      629\n",
      " 6      310\n",
      " 7      122\n",
      " 8       49\n",
      " 9       16\n",
      " 10       8\n",
      " 12       5\n",
      " 11       5\n",
      "Name: NIter, dtype: int64\n"
     ]
    }
   ],
   "source": [
    "fltfrm = pandas.DataFrame({'SdgSeq':sdsq, 'OFlg':oflg, 'ChiO2':chio2, 'ChiWk':chiwk, 'ChiSt':chist, \\\n",
    "                           'XCO2True': 1.0e6 * xco2tr, 'XCO2Ret': 1.0e6 * xco2hat, 'NIter': nitr})\n",
    "print(fltfrm[0:5])\n",
    "print(fltfrm['OFlg'].value_counts())\n",
    "print(fltfrm['NIter'].value_counts())"
   ]
  },
  {
   "cell_type": "markdown",
   "metadata": {},
   "source": [
    "Subset on \"good\" retrievals"
   ]
  },
  {
   "cell_type": "code",
   "execution_count": 6,
   "metadata": {},
   "outputs": [
    {
     "name": "stdout",
     "output_type": "stream",
     "text": [
      "(2424, 8)\n"
     ]
    },
    {
     "data": {
      "text/html": [
       "<div>\n",
       "<style scoped>\n",
       "    .dataframe tbody tr th:only-of-type {\n",
       "        vertical-align: middle;\n",
       "    }\n",
       "\n",
       "    .dataframe tbody tr th {\n",
       "        vertical-align: top;\n",
       "    }\n",
       "\n",
       "    .dataframe thead th {\n",
       "        text-align: right;\n",
       "    }\n",
       "</style>\n",
       "<table border=\"1\" class=\"dataframe\">\n",
       "  <thead>\n",
       "    <tr style=\"text-align: right;\">\n",
       "      <th></th>\n",
       "      <th>SdgSeq</th>\n",
       "      <th>OFlg</th>\n",
       "      <th>ChiO2</th>\n",
       "      <th>ChiWk</th>\n",
       "      <th>ChiSt</th>\n",
       "      <th>XCO2True</th>\n",
       "      <th>XCO2Ret</th>\n",
       "      <th>NIter</th>\n",
       "    </tr>\n",
       "  </thead>\n",
       "  <tbody>\n",
       "    <tr>\n",
       "      <th>215</th>\n",
       "      <td>215</td>\n",
       "      <td>1</td>\n",
       "      <td>1.076273</td>\n",
       "      <td>0.996158</td>\n",
       "      <td>1.014418</td>\n",
       "      <td>409.643485</td>\n",
       "      <td>408.799896</td>\n",
       "      <td>3</td>\n",
       "    </tr>\n",
       "    <tr>\n",
       "      <th>217</th>\n",
       "      <td>217</td>\n",
       "      <td>1</td>\n",
       "      <td>0.989424</td>\n",
       "      <td>1.067155</td>\n",
       "      <td>1.025127</td>\n",
       "      <td>409.864995</td>\n",
       "      <td>409.180206</td>\n",
       "      <td>7</td>\n",
       "    </tr>\n",
       "    <tr>\n",
       "      <th>218</th>\n",
       "      <td>218</td>\n",
       "      <td>1</td>\n",
       "      <td>1.019096</td>\n",
       "      <td>1.059281</td>\n",
       "      <td>0.986392</td>\n",
       "      <td>410.938080</td>\n",
       "      <td>409.779388</td>\n",
       "      <td>4</td>\n",
       "    </tr>\n",
       "    <tr>\n",
       "      <th>219</th>\n",
       "      <td>219</td>\n",
       "      <td>1</td>\n",
       "      <td>1.017453</td>\n",
       "      <td>1.012667</td>\n",
       "      <td>1.130291</td>\n",
       "      <td>412.629059</td>\n",
       "      <td>411.924500</td>\n",
       "      <td>3</td>\n",
       "    </tr>\n",
       "    <tr>\n",
       "      <th>220</th>\n",
       "      <td>220</td>\n",
       "      <td>1</td>\n",
       "      <td>0.953676</td>\n",
       "      <td>1.027729</td>\n",
       "      <td>1.019866</td>\n",
       "      <td>408.860852</td>\n",
       "      <td>408.427094</td>\n",
       "      <td>3</td>\n",
       "    </tr>\n",
       "  </tbody>\n",
       "</table>\n",
       "</div>"
      ],
      "text/plain": [
       "     SdgSeq  OFlg     ChiO2     ChiWk     ChiSt    XCO2True     XCO2Ret  NIter\n",
       "215     215     1  1.076273  0.996158  1.014418  409.643485  408.799896      3\n",
       "217     217     1  0.989424  1.067155  1.025127  409.864995  409.180206      7\n",
       "218     218     1  1.019096  1.059281  0.986392  410.938080  409.779388      4\n",
       "219     219     1  1.017453  1.012667  1.130291  412.629059  411.924500      3\n",
       "220     220     1  0.953676  1.027729  1.019866  408.860852  408.427094      3"
      ]
     },
     "execution_count": 6,
     "metadata": {},
     "output_type": "execute_result"
    }
   ],
   "source": [
    "qlfrm = fltfrm.loc[ (fltfrm['OFlg'] == 1) & (fltfrm['ChiO2'] < 10.0) & (fltfrm['ChiWk'] < 10.0) & (fltfrm['ChiSt'] < 10.0)].copy()\n",
    "print(qlfrm.shape)\n",
    "qlfrm[100:105]\n"
   ]
  },
  {
   "cell_type": "code",
   "execution_count": 7,
   "metadata": {},
   "outputs": [
    {
     "data": {
      "text/html": [
       "<div>\n",
       "<style scoped>\n",
       "    .dataframe tbody tr th:only-of-type {\n",
       "        vertical-align: middle;\n",
       "    }\n",
       "\n",
       "    .dataframe tbody tr th {\n",
       "        vertical-align: top;\n",
       "    }\n",
       "\n",
       "    .dataframe thead th {\n",
       "        text-align: right;\n",
       "    }\n",
       "</style>\n",
       "<table border=\"1\" class=\"dataframe\">\n",
       "  <thead>\n",
       "    <tr style=\"text-align: right;\">\n",
       "      <th></th>\n",
       "      <th>ChiO2</th>\n",
       "      <th>ChiWk</th>\n",
       "      <th>ChiSt</th>\n",
       "    </tr>\n",
       "  </thead>\n",
       "  <tbody>\n",
       "    <tr>\n",
       "      <th>count</th>\n",
       "      <td>2424.000000</td>\n",
       "      <td>2424.000000</td>\n",
       "      <td>2424.000000</td>\n",
       "    </tr>\n",
       "    <tr>\n",
       "      <th>mean</th>\n",
       "      <td>1.113302</td>\n",
       "      <td>1.169317</td>\n",
       "      <td>1.174163</td>\n",
       "    </tr>\n",
       "    <tr>\n",
       "      <th>std</th>\n",
       "      <td>0.351652</td>\n",
       "      <td>0.439366</td>\n",
       "      <td>0.558363</td>\n",
       "    </tr>\n",
       "    <tr>\n",
       "      <th>min</th>\n",
       "      <td>0.845321</td>\n",
       "      <td>0.865507</td>\n",
       "      <td>0.835901</td>\n",
       "    </tr>\n",
       "    <tr>\n",
       "      <th>25%</th>\n",
       "      <td>1.000260</td>\n",
       "      <td>1.014781</td>\n",
       "      <td>1.000556</td>\n",
       "    </tr>\n",
       "    <tr>\n",
       "      <th>50%</th>\n",
       "      <td>1.046413</td>\n",
       "      <td>1.075038</td>\n",
       "      <td>1.048284</td>\n",
       "    </tr>\n",
       "    <tr>\n",
       "      <th>75%</th>\n",
       "      <td>1.110481</td>\n",
       "      <td>1.166411</td>\n",
       "      <td>1.119646</td>\n",
       "    </tr>\n",
       "    <tr>\n",
       "      <th>max</th>\n",
       "      <td>6.945340</td>\n",
       "      <td>9.536506</td>\n",
       "      <td>9.417591</td>\n",
       "    </tr>\n",
       "  </tbody>\n",
       "</table>\n",
       "</div>"
      ],
      "text/plain": [
       "             ChiO2        ChiWk        ChiSt\n",
       "count  2424.000000  2424.000000  2424.000000\n",
       "mean      1.113302     1.169317     1.174163\n",
       "std       0.351652     0.439366     0.558363\n",
       "min       0.845321     0.865507     0.835901\n",
       "25%       1.000260     1.014781     1.000556\n",
       "50%       1.046413     1.075038     1.048284\n",
       "75%       1.110481     1.166411     1.119646\n",
       "max       6.945340     9.536506     9.417591"
      ]
     },
     "execution_count": 7,
     "metadata": {},
     "output_type": "execute_result"
    }
   ],
   "source": [
    "qlfrm[['ChiO2','ChiWk','ChiSt']].describe()"
   ]
  },
  {
   "cell_type": "markdown",
   "metadata": {},
   "source": [
    "Summarize XCO2 error"
   ]
  },
  {
   "cell_type": "code",
   "execution_count": 8,
   "metadata": {
    "scrolled": true
   },
   "outputs": [
    {
     "data": {
      "text/html": [
       "<div>\n",
       "<style scoped>\n",
       "    .dataframe tbody tr th:only-of-type {\n",
       "        vertical-align: middle;\n",
       "    }\n",
       "\n",
       "    .dataframe tbody tr th {\n",
       "        vertical-align: top;\n",
       "    }\n",
       "\n",
       "    .dataframe thead th {\n",
       "        text-align: right;\n",
       "    }\n",
       "</style>\n",
       "<table border=\"1\" class=\"dataframe\">\n",
       "  <thead>\n",
       "    <tr style=\"text-align: right;\">\n",
       "      <th></th>\n",
       "      <th>XCO2Err</th>\n",
       "    </tr>\n",
       "  </thead>\n",
       "  <tbody>\n",
       "    <tr>\n",
       "      <th>count</th>\n",
       "      <td>2424.000000</td>\n",
       "    </tr>\n",
       "    <tr>\n",
       "      <th>mean</th>\n",
       "      <td>-0.544265</td>\n",
       "    </tr>\n",
       "    <tr>\n",
       "      <th>std</th>\n",
       "      <td>0.518688</td>\n",
       "    </tr>\n",
       "    <tr>\n",
       "      <th>min</th>\n",
       "      <td>-4.651592</td>\n",
       "    </tr>\n",
       "    <tr>\n",
       "      <th>25%</th>\n",
       "      <td>-0.854695</td>\n",
       "    </tr>\n",
       "    <tr>\n",
       "      <th>50%</th>\n",
       "      <td>-0.527963</td>\n",
       "    </tr>\n",
       "    <tr>\n",
       "      <th>75%</th>\n",
       "      <td>-0.212380</td>\n",
       "    </tr>\n",
       "    <tr>\n",
       "      <th>max</th>\n",
       "      <td>1.230802</td>\n",
       "    </tr>\n",
       "  </tbody>\n",
       "</table>\n",
       "</div>"
      ],
      "text/plain": [
       "           XCO2Err\n",
       "count  2424.000000\n",
       "mean     -0.544265\n",
       "std       0.518688\n",
       "min      -4.651592\n",
       "25%      -0.854695\n",
       "50%      -0.527963\n",
       "75%      -0.212380\n",
       "max       1.230802"
      ]
     },
     "execution_count": 8,
     "metadata": {},
     "output_type": "execute_result"
    }
   ],
   "source": [
    "qlfrm['XCO2Err'] = qlfrm['XCO2Ret'] - qlfrm['XCO2True']\n",
    "qlfrm[['XCO2Err']].describe()"
   ]
  },
  {
   "cell_type": "code",
   "execution_count": 9,
   "metadata": {},
   "outputs": [
    {
     "data": {
      "text/html": [
       "<div>\n",
       "<style scoped>\n",
       "    .dataframe tbody tr th:only-of-type {\n",
       "        vertical-align: middle;\n",
       "    }\n",
       "\n",
       "    .dataframe tbody tr th {\n",
       "        vertical-align: top;\n",
       "    }\n",
       "\n",
       "    .dataframe thead th {\n",
       "        text-align: right;\n",
       "    }\n",
       "</style>\n",
       "<table border=\"1\" class=\"dataframe\">\n",
       "  <thead>\n",
       "    <tr style=\"text-align: right;\">\n",
       "      <th></th>\n",
       "      <th>XCO2True</th>\n",
       "    </tr>\n",
       "  </thead>\n",
       "  <tbody>\n",
       "    <tr>\n",
       "      <th>count</th>\n",
       "      <td>2424.000000</td>\n",
       "    </tr>\n",
       "    <tr>\n",
       "      <th>mean</th>\n",
       "      <td>410.177114</td>\n",
       "    </tr>\n",
       "    <tr>\n",
       "      <th>std</th>\n",
       "      <td>1.956879</td>\n",
       "    </tr>\n",
       "    <tr>\n",
       "      <th>min</th>\n",
       "      <td>403.841327</td>\n",
       "    </tr>\n",
       "    <tr>\n",
       "      <th>25%</th>\n",
       "      <td>408.823675</td>\n",
       "    </tr>\n",
       "    <tr>\n",
       "      <th>50%</th>\n",
       "      <td>410.164411</td>\n",
       "    </tr>\n",
       "    <tr>\n",
       "      <th>75%</th>\n",
       "      <td>411.479076</td>\n",
       "    </tr>\n",
       "    <tr>\n",
       "      <th>max</th>\n",
       "      <td>416.621625</td>\n",
       "    </tr>\n",
       "  </tbody>\n",
       "</table>\n",
       "</div>"
      ],
      "text/plain": [
       "          XCO2True\n",
       "count  2424.000000\n",
       "mean    410.177114\n",
       "std       1.956879\n",
       "min     403.841327\n",
       "25%     408.823675\n",
       "50%     410.164411\n",
       "75%     411.479076\n",
       "max     416.621625"
      ]
     },
     "execution_count": 9,
     "metadata": {},
     "output_type": "execute_result"
    }
   ],
   "source": [
    "qlfrm[['XCO2True']].describe()"
   ]
  },
  {
   "cell_type": "code",
   "execution_count": 10,
   "metadata": {},
   "outputs": [
    {
     "data": {
      "text/plain": [
       "Text(0.5, 1.0, 'Experiment Retrieval Error')"
      ]
     },
     "execution_count": 10,
     "metadata": {},
     "output_type": "execute_result"
    },
    {
     "data": {
      "image/png": "[encoded data removed]",
      "text/plain": [
       "<Figure size 504x432 with 1 Axes>"
      ]
     },
     "metadata": {
      "needs_background": "light"
     },
     "output_type": "display_data"
    }
   ],
   "source": [
    "bnsqf = numpy.arange(-2.75,3.0,0.25)\n",
    "clst = [\"#C7657B\",\"#998300\",\"#009958\",\"#0095B3\",\"#A26EC4\"]\n",
    "\n",
    "%matplotlib inline\n",
    "fig = pyplot.figure(figsize=(7,6))\n",
    "p1 = pyplot.subplot(1,1,1)\n",
    "n, bins, patches = pyplot.hist(qlfrm['XCO2Err'],bnsqf,density=True,facecolor=clst[0])\n",
    "p1.set_xlabel('XCO2 Error [ppm]',size=9)\n",
    "p1.set_ylabel('Density',size=9)\n",
    "p1.xaxis.grid(color=\"#777777\",linestyle='dotted')\n",
    "p1.yaxis.grid(color=\"#777777\",linestyle='dotted')\n",
    "p1.set_ylim(0,1)\n",
    "for lb in p1.xaxis.get_ticklabels():\n",
    "    lb.set_fontsize(9)\n",
    "for lb in p1.yaxis.get_ticklabels():\n",
    "    lb.set_fontsize(9)\n",
    "tstr = 'Experiment Retrieval Error' \n",
    "pyplot.title(tstr,size=10)\n",
    "\n"
   ]
  },
  {
   "cell_type": "markdown",
   "metadata": {},
   "source": [
    "Save figure as an image"
   ]
  },
  {
   "cell_type": "code",
   "execution_count": 12,
   "metadata": {},
   "outputs": [],
   "source": [
    "mnerr = numpy.mean(qlfrm['XCO2Err'])\n",
    "sderr = numpy.std(qlfrm['XCO2Err'])\n",
    "\n",
    "smrytxt = '''Mean: %.02f\n",
    "Std Dev: %.02f\n",
    "''' % (mnerr,sderr)\n",
    "\n",
    "fig = pyplot.figure(figsize=(7,6),facecolor=\"white\")\n",
    "p1 = pyplot.subplot(1,1,1)\n",
    "n, bins, patches = pyplot.hist(qlfrm['XCO2Err'],bnsqf,density=True,facecolor=clst[0])\n",
    "p1.set_xlabel('XCO2 Error [ppm]',size=12)\n",
    "p1.set_ylabel('Density',size=12)\n",
    "p1.xaxis.grid(color=\"#777777\",linestyle='dotted')\n",
    "p1.yaxis.grid(color=\"#777777\",linestyle='dotted')\n",
    "p1.set_ylim(0,1)\n",
    "for lb in p1.xaxis.get_ticklabels():\n",
    "    lb.set_fontsize(10)\n",
    "for lb in p1.yaxis.get_ticklabels():\n",
    "    lb.set_fontsize(10)\n",
    "tstr = 'Experiment Retrieval Error' \n",
    "pyplot.text(1.5,0.8,s=smrytxt,fontsize=12)\n",
    "pyplot.title(tstr,size=14)\n",
    "fig.savefig('XCO2_Error_Hist_D1G0M0.png',dpi=200)\n",
    "pyplot.close()"
   ]
  },
  {
   "cell_type": "code",
   "execution_count": null,
   "metadata": {},
   "outputs": [],
   "source": []
  }
 ],
 "metadata": {
  "kernelspec": {
   "display_name": "Python 3 (ipykernel)",
   "language": "python",
   "name": "python3"
  },
  "language_info": {
   "codemirror_mode": {
    "name": "ipython",
    "version": 3
   },
   "file_extension": ".py",
   "mimetype": "text/x-python",
   "name": "python",
   "nbconvert_exporter": "python",
   "pygments_lexer": "ipython3",
   "version": "3.8.13"
  }
 },
 "nbformat": 4,
 "nbformat_minor": 4
}
