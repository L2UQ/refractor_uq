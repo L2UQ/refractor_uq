{
 "cells": [
  {
   "cell_type": "markdown",
   "metadata": {},
   "source": [
    "### ReFRACtor UQ Experiment Analysis\n",
    "\n",
    "This notebook provides quick summary results from a simulation-based uncertainty quantification experiment, conducted using the [ReFRACtor OCO-2 setup](https://github.com/L2UQ/refractor_uq)\n",
    "\n",
    "The simulation produces an ouptut file in HDF5 format with the aggregated retrieval results. The analysis consists of two key steps:\n",
    "\n",
    "* Filtering: Diagnosing if retrievals successfully converged to a solution\n",
    "    - `RetrievalResults/outcome_flag`: A value of 1 or 2 indicates the optimization reached a solution. A value of 3 indicates convergence was not reached in the allowed number of iterations. A missing value suggests the retrieval was not attempted or a low-level numerical failure occurred during the retrieval.\n",
    "    - `SpectralParameters/reduced_chi_squared_o2`, `/SpectralParameters/reduced_chi_squared_strong_co2`, `/SpectralParameters/reduced_chi_squared_weak_co2`: These are goodness of fit metrics for each of the three bands. They are normalized, so values around 1 are consistent with successful convergence. If values are several times to an order of magnitude larger, the solution is probably suspect.\n",
    "* Error assessment: Examining the distribution of retrieved quantities and errors on the subset of successful retrievals\n",
    "    - `RetrievalResults/retrieved_xco2`, `RetrievalResults/retrieved_state_vector`: Retrieved quantities, which can be compared to their true counterparts: `/StateVector/true_xco2`, `/StateVector/true_state_vector`"
   ]
  },
  {
   "cell_type": "code",
   "execution_count": 1,
   "metadata": {},
   "outputs": [],
   "source": [
    "import pandas\n",
    "import numpy\n",
    "import h5py\n",
    "import matplotlib\n",
    "from matplotlib import pyplot\n",
    "from matplotlib import colors"
   ]
  },
  {
   "cell_type": "markdown",
   "metadata": {},
   "source": [
    "Read in aggregated retrieval results"
   ]
  },
  {
   "cell_type": "code",
   "execution_count": 2,
   "metadata": {},
   "outputs": [],
   "source": [
    "fnm = \"lnd_nadir_201508_refractor_aggregate_retrieval.h5\" \n",
    "f = h5py.File(fnm,'r')\n",
    "oflg = f['/RetrievalResults/outcome_flag'][:]\n",
    "chio2 = f['/SpectralParameters/reduced_chi_squared_o2'][:]\n",
    "chist = f['/SpectralParameters/reduced_chi_squared_strong_co2'][:]\n",
    "chiwk = f['/SpectralParameters/reduced_chi_squared_weak_co2'][:]\n",
    "xco2hat = f['/RetrievalResults/retrieved_xco2'][:]\n",
    "xco2tr = f['/StateVector/true_xco2'][:]\n",
    "f.close()\n",
    "\n",
    "sdsq = numpy.arange(oflg.shape[0])"
   ]
  },
  {
   "cell_type": "code",
   "execution_count": 3,
   "metadata": {},
   "outputs": [
    {
     "name": "stdout",
     "output_type": "stream",
     "text": [
      "(5000,)\n",
      "[1 1 1 1 1 1 1 1 1 1]\n",
      "[1.0101057  0.9381365  0.9747239  0.93134356 1.029195   0.9844205\n",
      " 1.0532988  1.0839261  1.0241371  1.01317   ]\n"
     ]
    }
   ],
   "source": [
    "print(oflg.shape)\n",
    "print(oflg[0:10])\n",
    "print(chio2[0:10])"
   ]
  },
  {
   "cell_type": "markdown",
   "metadata": {},
   "source": [
    "Create a data frame and tabulate outcome flag results. Convert XCO2 variables to parts per million"
   ]
  },
  {
   "cell_type": "code",
   "execution_count": 4,
   "metadata": {},
   "outputs": [
    {
     "name": "stdout",
     "output_type": "stream",
     "text": [
      "   SdgSeq  OFlg     ChiO2     ChiWk     ChiSt    XCO2True     XCO2Ret\n",
      "0       0     1  1.010106  1.003414  0.925099  394.118768  394.868439\n",
      "1       1     1  0.938137  0.965213  1.009809  399.000305  398.498718\n",
      "2       2     1  0.974724  0.967083  1.034666  391.822007  391.102448\n",
      "3       3     1  0.931344  0.916969  1.024994  396.318412  395.815704\n",
      "4       4     1  1.029195  0.958766  0.947733  397.358442  397.062103\n",
      " 1     4923\n",
      " 3       74\n",
      "-99       3\n",
      "Name: OFlg, dtype: int64\n"
     ]
    }
   ],
   "source": [
    "fltfrm = pandas.DataFrame({'SdgSeq':sdsq, 'OFlg':oflg, 'ChiO2':chio2, 'ChiWk':chiwk, 'ChiSt':chist, \\\n",
    "                           'XCO2True': 1.0e6 * xco2tr, 'XCO2Ret': 1.0e6 * xco2hat})\n",
    "print(fltfrm[0:5])\n",
    "print(fltfrm['OFlg'].value_counts())\n"
   ]
  },
  {
   "cell_type": "markdown",
   "metadata": {},
   "source": [
    "Subset on \"good\" retrievals"
   ]
  },
  {
   "cell_type": "code",
   "execution_count": 5,
   "metadata": {},
   "outputs": [
    {
     "name": "stdout",
     "output_type": "stream",
     "text": [
      "(4923, 7)\n"
     ]
    },
    {
     "data": {
      "text/html": [
       "<div>\n",
       "<style scoped>\n",
       "    .dataframe tbody tr th:only-of-type {\n",
       "        vertical-align: middle;\n",
       "    }\n",
       "\n",
       "    .dataframe tbody tr th {\n",
       "        vertical-align: top;\n",
       "    }\n",
       "\n",
       "    .dataframe thead th {\n",
       "        text-align: right;\n",
       "    }\n",
       "</style>\n",
       "<table border=\"1\" class=\"dataframe\">\n",
       "  <thead>\n",
       "    <tr style=\"text-align: right;\">\n",
       "      <th></th>\n",
       "      <th>SdgSeq</th>\n",
       "      <th>OFlg</th>\n",
       "      <th>ChiO2</th>\n",
       "      <th>ChiWk</th>\n",
       "      <th>ChiSt</th>\n",
       "      <th>XCO2True</th>\n",
       "      <th>XCO2Ret</th>\n",
       "    </tr>\n",
       "  </thead>\n",
       "  <tbody>\n",
       "    <tr>\n",
       "      <th>100</th>\n",
       "      <td>100</td>\n",
       "      <td>1</td>\n",
       "      <td>1.043971</td>\n",
       "      <td>1.059636</td>\n",
       "      <td>0.929143</td>\n",
       "      <td>398.750600</td>\n",
       "      <td>398.776001</td>\n",
       "    </tr>\n",
       "    <tr>\n",
       "      <th>101</th>\n",
       "      <td>101</td>\n",
       "      <td>1</td>\n",
       "      <td>1.069356</td>\n",
       "      <td>1.045845</td>\n",
       "      <td>0.937689</td>\n",
       "      <td>398.240339</td>\n",
       "      <td>398.691467</td>\n",
       "    </tr>\n",
       "    <tr>\n",
       "      <th>102</th>\n",
       "      <td>102</td>\n",
       "      <td>1</td>\n",
       "      <td>0.998831</td>\n",
       "      <td>0.926735</td>\n",
       "      <td>1.018974</td>\n",
       "      <td>400.203088</td>\n",
       "      <td>400.755280</td>\n",
       "    </tr>\n",
       "    <tr>\n",
       "      <th>103</th>\n",
       "      <td>103</td>\n",
       "      <td>1</td>\n",
       "      <td>0.951606</td>\n",
       "      <td>0.970211</td>\n",
       "      <td>0.985089</td>\n",
       "      <td>397.811026</td>\n",
       "      <td>398.147400</td>\n",
       "    </tr>\n",
       "    <tr>\n",
       "      <th>104</th>\n",
       "      <td>104</td>\n",
       "      <td>1</td>\n",
       "      <td>1.036582</td>\n",
       "      <td>1.013258</td>\n",
       "      <td>0.973763</td>\n",
       "      <td>403.682287</td>\n",
       "      <td>403.830719</td>\n",
       "    </tr>\n",
       "  </tbody>\n",
       "</table>\n",
       "</div>"
      ],
      "text/plain": [
       "     SdgSeq  OFlg     ChiO2     ChiWk     ChiSt    XCO2True     XCO2Ret\n",
       "100     100     1  1.043971  1.059636  0.929143  398.750600  398.776001\n",
       "101     101     1  1.069356  1.045845  0.937689  398.240339  398.691467\n",
       "102     102     1  0.998831  0.926735  1.018974  400.203088  400.755280\n",
       "103     103     1  0.951606  0.970211  0.985089  397.811026  398.147400\n",
       "104     104     1  1.036582  1.013258  0.973763  403.682287  403.830719"
      ]
     },
     "execution_count": 5,
     "metadata": {},
     "output_type": "execute_result"
    }
   ],
   "source": [
    "qlfrm = fltfrm.loc[ (fltfrm['OFlg'] == 1) & (fltfrm['ChiO2'] < 10.0) & (fltfrm['ChiWk'] < 10.0) & (fltfrm['ChiSt'] < 10.0)].copy()\n",
    "print(qlfrm.shape)\n",
    "qlfrm[100:105]\n"
   ]
  },
  {
   "cell_type": "code",
   "execution_count": 6,
   "metadata": {},
   "outputs": [
    {
     "data": {
      "text/html": [
       "<div>\n",
       "<style scoped>\n",
       "    .dataframe tbody tr th:only-of-type {\n",
       "        vertical-align: middle;\n",
       "    }\n",
       "\n",
       "    .dataframe tbody tr th {\n",
       "        vertical-align: top;\n",
       "    }\n",
       "\n",
       "    .dataframe thead th {\n",
       "        text-align: right;\n",
       "    }\n",
       "</style>\n",
       "<table border=\"1\" class=\"dataframe\">\n",
       "  <thead>\n",
       "    <tr style=\"text-align: right;\">\n",
       "      <th></th>\n",
       "      <th>ChiO2</th>\n",
       "      <th>ChiWk</th>\n",
       "      <th>ChiSt</th>\n",
       "    </tr>\n",
       "  </thead>\n",
       "  <tbody>\n",
       "    <tr>\n",
       "      <th>count</th>\n",
       "      <td>4923.000000</td>\n",
       "      <td>4923.000000</td>\n",
       "      <td>4923.000000</td>\n",
       "    </tr>\n",
       "    <tr>\n",
       "      <th>mean</th>\n",
       "      <td>0.994679</td>\n",
       "      <td>1.001884</td>\n",
       "      <td>0.997432</td>\n",
       "    </tr>\n",
       "    <tr>\n",
       "      <th>std</th>\n",
       "      <td>0.065825</td>\n",
       "      <td>0.155275</td>\n",
       "      <td>0.157801</td>\n",
       "    </tr>\n",
       "    <tr>\n",
       "      <th>min</th>\n",
       "      <td>0.808143</td>\n",
       "      <td>0.826405</td>\n",
       "      <td>0.833043</td>\n",
       "    </tr>\n",
       "    <tr>\n",
       "      <th>25%</th>\n",
       "      <td>0.958178</td>\n",
       "      <td>0.954325</td>\n",
       "      <td>0.955275</td>\n",
       "    </tr>\n",
       "    <tr>\n",
       "      <th>50%</th>\n",
       "      <td>0.992669</td>\n",
       "      <td>0.991859</td>\n",
       "      <td>0.989253</td>\n",
       "    </tr>\n",
       "    <tr>\n",
       "      <th>75%</th>\n",
       "      <td>1.027719</td>\n",
       "      <td>1.030526</td>\n",
       "      <td>1.023400</td>\n",
       "    </tr>\n",
       "    <tr>\n",
       "      <th>max</th>\n",
       "      <td>3.576396</td>\n",
       "      <td>6.088896</td>\n",
       "      <td>6.797803</td>\n",
       "    </tr>\n",
       "  </tbody>\n",
       "</table>\n",
       "</div>"
      ],
      "text/plain": [
       "             ChiO2        ChiWk        ChiSt\n",
       "count  4923.000000  4923.000000  4923.000000\n",
       "mean      0.994679     1.001884     0.997432\n",
       "std       0.065825     0.155275     0.157801\n",
       "min       0.808143     0.826405     0.833043\n",
       "25%       0.958178     0.954325     0.955275\n",
       "50%       0.992669     0.991859     0.989253\n",
       "75%       1.027719     1.030526     1.023400\n",
       "max       3.576396     6.088896     6.797803"
      ]
     },
     "execution_count": 6,
     "metadata": {},
     "output_type": "execute_result"
    }
   ],
   "source": [
    "qlfrm[['ChiO2','ChiWk','ChiSt']].describe()"
   ]
  },
  {
   "cell_type": "markdown",
   "metadata": {},
   "source": [
    "Summarize XCO2 error"
   ]
  },
  {
   "cell_type": "code",
   "execution_count": 7,
   "metadata": {},
   "outputs": [
    {
     "data": {
      "text/html": [
       "<div>\n",
       "<style scoped>\n",
       "    .dataframe tbody tr th:only-of-type {\n",
       "        vertical-align: middle;\n",
       "    }\n",
       "\n",
       "    .dataframe tbody tr th {\n",
       "        vertical-align: top;\n",
       "    }\n",
       "\n",
       "    .dataframe thead th {\n",
       "        text-align: right;\n",
       "    }\n",
       "</style>\n",
       "<table border=\"1\" class=\"dataframe\">\n",
       "  <thead>\n",
       "    <tr style=\"text-align: right;\">\n",
       "      <th></th>\n",
       "      <th>XCO2Err</th>\n",
       "    </tr>\n",
       "  </thead>\n",
       "  <tbody>\n",
       "    <tr>\n",
       "      <th>count</th>\n",
       "      <td>4923.000000</td>\n",
       "    </tr>\n",
       "    <tr>\n",
       "      <th>mean</th>\n",
       "      <td>-0.179800</td>\n",
       "    </tr>\n",
       "    <tr>\n",
       "      <th>std</th>\n",
       "      <td>0.416215</td>\n",
       "    </tr>\n",
       "    <tr>\n",
       "      <th>min</th>\n",
       "      <td>-5.454600</td>\n",
       "    </tr>\n",
       "    <tr>\n",
       "      <th>25%</th>\n",
       "      <td>-0.382246</td>\n",
       "    </tr>\n",
       "    <tr>\n",
       "      <th>50%</th>\n",
       "      <td>-0.152724</td>\n",
       "    </tr>\n",
       "    <tr>\n",
       "      <th>75%</th>\n",
       "      <td>0.073295</td>\n",
       "    </tr>\n",
       "    <tr>\n",
       "      <th>max</th>\n",
       "      <td>1.449261</td>\n",
       "    </tr>\n",
       "  </tbody>\n",
       "</table>\n",
       "</div>"
      ],
      "text/plain": [
       "           XCO2Err\n",
       "count  4923.000000\n",
       "mean     -0.179800\n",
       "std       0.416215\n",
       "min      -5.454600\n",
       "25%      -0.382246\n",
       "50%      -0.152724\n",
       "75%       0.073295\n",
       "max       1.449261"
      ]
     },
     "execution_count": 7,
     "metadata": {},
     "output_type": "execute_result"
    }
   ],
   "source": [
    "qlfrm['XCO2Err'] = qlfrm['XCO2Ret'] - qlfrm['XCO2True']\n",
    "qlfrm[['XCO2Err']].describe()"
   ]
  },
  {
   "cell_type": "code",
   "execution_count": 8,
   "metadata": {},
   "outputs": [
    {
     "data": {
      "text/plain": [
       "Text(0.5, 1.0, 'Experiment Retrieval Error')"
      ]
     },
     "execution_count": 8,
     "metadata": {},
     "output_type": "execute_result"
    },
    {
     "data": {
      "image/png": "[encoded data removed]",
      "text/plain": [
       "<Figure size 504x432 with 1 Axes>"
      ]
     },
     "metadata": {
      "needs_background": "light"
     },
     "output_type": "display_data"
    }
   ],
   "source": [
    "bnsqf = numpy.arange(-2.75,3.0,0.25)\n",
    "clst = [\"#C7657B\",\"#998300\",\"#009958\",\"#0095B3\",\"#A26EC4\"]\n",
    "\n",
    "%matplotlib inline\n",
    "fig = pyplot.figure(figsize=(7,6))\n",
    "p1 = pyplot.subplot(1,1,1)\n",
    "n, bins, patches = pyplot.hist(qlfrm['XCO2Err'],bnsqf,density=True,facecolor=clst[0])\n",
    "p1.set_xlabel('XCO2 Error [ppm]',size=9)\n",
    "p1.set_ylabel('Density',size=9)\n",
    "p1.xaxis.grid(color=\"#777777\",linestyle='dotted')\n",
    "p1.yaxis.grid(color=\"#777777\",linestyle='dotted')\n",
    "for lb in p1.xaxis.get_ticklabels():\n",
    "    lb.set_fontsize(9)\n",
    "for lb in p1.yaxis.get_ticklabels():\n",
    "    lb.set_fontsize(9)\n",
    "tstr = 'Experiment Retrieval Error' \n",
    "pyplot.title(tstr,size=10)\n",
    "\n"
   ]
  }
 ],
 "metadata": {
  "kernelspec": {
   "display_name": "Python 3",
   "language": "python",
   "name": "python3"
  },
  "language_info": {
   "codemirror_mode": {
    "name": "ipython",
    "version": 3
   },
   "file_extension": ".py",
   "mimetype": "text/x-python",
   "name": "python",
   "nbconvert_exporter": "python",
   "pygments_lexer": "ipython3",
   "version": "3.8.3"
  }
 },
 "nbformat": 4,
 "nbformat_minor": 4
}
